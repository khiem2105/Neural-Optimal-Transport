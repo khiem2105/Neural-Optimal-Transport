{
 "cells": [
  {
   "cell_type": "markdown",
   "metadata": {},
   "source": [
    "## Preprocessing of aligned anime faces\n",
    "Cropping & aligning with celeba (rescaled) faces"
   ]
  },
  {
   "cell_type": "code",
   "execution_count": 29,
   "metadata": {},
   "outputs": [],
   "source": [
    "from PIL import Image\n",
    "import os\n",
    "from tqdm import tqdm_notebook"
   ]
  },
  {
   "cell_type": "code",
   "execution_count": 30,
   "metadata": {},
   "outputs": [],
   "source": [
    "def center_crop(im, size):\n",
    "    left = int(im.size[0]/2-size/2)\n",
    "    upper = int(im.size[1]/2-size/2)\n",
    "    right = left + size\n",
    "    lower = upper + size\n",
    "    \n",
    "    return im.crop((left, upper,right,lower))\n",
    "\n",
    "def noncenter_crop(im, size, shift=(0,0)):\n",
    "    left = int(im.size[0]/2-size/2) + shift[0]\n",
    "    upper = int(im.size[1]/2-size/2) + shift[1]\n",
    "    right = left + size\n",
    "    lower = upper + size\n",
    "    \n",
    "    return im.crop((left, upper,right,lower))"
   ]
  },
  {
   "cell_type": "code",
   "execution_count": 31,
   "metadata": {},
   "outputs": [],
   "source": [
    "path = '../../data/safebooru_jpeg'\n",
    "files = os.listdir(path)"
   ]
  },
  {
   "cell_type": "code",
   "execution_count": 33,
   "metadata": {},
   "outputs": [],
   "source": [
    "def preprocess_anime_face(path_in_out):\n",
    "    in_path, out_path = path_in_out\n",
    "    im = Image.open(in_path).resize((512,512))\n",
    "    im = noncenter_crop(im, 256, (0, -14)).resize((128, 128))\n",
    "    im.save(out_path)"
   ]
  },
  {
   "cell_type": "code",
   "execution_count": 39,
   "metadata": {},
   "outputs": [],
   "source": [
    "in_paths = [os.path.join(path, file) for file in files]\n",
    "\n",
    "out_path = '../../data/aligned_anime_faces/all/'\n",
    "out_names = [os.path.join(out_path, f'{i}.png') for i in range(len(files))]\n",
    "\n",
    "if not os.path.exists(out_path):\n",
    "    os.makedirs(out_path)"
   ]
  },
  {
   "cell_type": "code",
   "execution_count": null,
   "metadata": {},
   "outputs": [],
   "source": [
    "from multiprocessing import Pool\n",
    "import time\n",
    "\n",
    "start = time.time()\n",
    "with Pool(64) as p:\n",
    "    p.map(preprocess_anime_face, list(zip(in_paths, out_names)))\n",
    "end = time.time()\n",
    "print(end-start)"
   ]
  },
  {
   "cell_type": "code",
   "execution_count": null,
   "metadata": {},
   "outputs": [],
   "source": []
  }
 ],
 "metadata": {
  "kernelspec": {
   "display_name": "Python 3 (ipykernel)",
   "language": "python",
   "name": "python3"
  },
  "language_info": {
   "codemirror_mode": {
    "name": "ipython",
    "version": 3
   },
   "file_extension": ".py",
   "mimetype": "text/x-python",
   "name": "python",
   "nbconvert_exporter": "python",
   "pygments_lexer": "ipython3",
   "version": "3.9.7"
  }
 },
 "nbformat": 4,
 "nbformat_minor": 4
}
