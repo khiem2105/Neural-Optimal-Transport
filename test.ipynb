{
 "cells": [
  {
   "cell_type": "code",
   "execution_count": null,
   "metadata": {},
   "outputs": [
    {
     "ename": "",
     "evalue": "",
     "output_type": "error",
     "traceback": [
      "\u001b[1;31mFailed to start the Kernel. \n",
      "\u001b[1;31mOSError: [Errno 122] Disk quota exceeded. \n",
      "\u001b[1;31mView Jupyter <a href='command:jupyter.viewOutput'>log</a> for further details."
     ]
    }
   ],
   "source": [
    "from src.datasets import load_digit_dataset\n",
    "from src.config import Config"
   ]
  },
  {
   "cell_type": "code",
   "execution_count": 2,
   "metadata": {},
   "outputs": [],
   "source": [
    "import torch\n",
    "import numpy as np\n",
    "\n",
    "torch.manual_seed(0xBADBEEF); np.random.seed(0xBADBEEF)"
   ]
  },
  {
   "cell_type": "code",
   "execution_count": null,
   "metadata": {},
   "outputs": [],
   "source": [
    "from src.trainer import Trainer"
   ]
  },
  {
   "cell_type": "code",
   "execution_count": 3,
   "metadata": {},
   "outputs": [],
   "source": [
    "config = Config(\n",
    "    img_size=32,\n",
    "    img_c_in=1,\n",
    "    img_c_out=1,\n",
    "    batch_size=64,\n",
    "    z_size=4,\n",
    "    gamma_0=0.01,\n",
    "    gamma_1=1.0,\n",
    "    gamma_iters=500,\n",
    "    T_iters=2,\n",
    "    plot_interval=50,\n",
    "    ckpt_interval=50,\n",
    "    max_steps=2001\n",
    ")"
   ]
  },
  {
   "cell_type": "code",
   "execution_count": 4,
   "metadata": {},
   "outputs": [],
   "source": [
    "X_train_sampler, X_test_sampler = load_digit_dataset(\n",
    "    batch_size=config.batch_size,\n",
    "    img_size=config.img_size,\n",
    "    name=\"MNIST\",\n",
    "    root=\"datasets\"\n",
    ")\n",
    "Y_train_sampler, Y_test_sampler = load_digit_dataset(\n",
    "    batch_size=config.batch_size,\n",
    "    img_size=config.img_size,\n",
    "    name=\"KMNIST\",\n",
    "    root=\"datasets\"\n",
    ")"
   ]
  },
  {
   "cell_type": "code",
   "execution_count": 5,
   "metadata": {},
   "outputs": [],
   "source": [
    "X_fixed = X_train_sampler.sample(10)[:,None].repeat(1,4,1,1,1)\n",
    "with torch.no_grad():\n",
    "    Z_fixed = torch.randn(10, 4, config.zc, config.img_size, config.img_size, device='cuda') * config.z_std\n",
    "    XZ_fixed = torch.cat([X_fixed, Z_fixed], dim=2)\n",
    "del X_fixed, Z_fixed\n",
    "Y_fixed = Y_train_sampler.sample(10)\n",
    "\n",
    "X_test_fixed = X_test_sampler.sample(10)[:,None].repeat(1,4,1,1,1)\n",
    "with torch.no_grad():\n",
    "    Z_test_fixed = torch.randn(10, 4, config.zc, config.img_size, config.img_size, device='cuda') * config.z_std\n",
    "    XZ_test_fixed = torch.cat([X_test_fixed, Z_test_fixed], dim=2)\n",
    "del X_test_fixed, Z_test_fixed\n",
    "Y_test_fixed = Y_test_sampler.sample(10)"
   ]
  },
  {
   "cell_type": "code",
   "execution_count": 16,
   "metadata": {},
   "outputs": [
    {
     "data": {
      "text/plain": [
       "torch.Size([10, 4, 2, 32, 32])"
      ]
     },
     "execution_count": 16,
     "metadata": {},
     "output_type": "execute_result"
    }
   ],
   "source": [
    "XZ_fixed.shape"
   ]
  },
  {
   "cell_type": "code",
   "execution_count": null,
   "metadata": {},
   "outputs": [
    {
     "name": "stderr",
     "output_type": "stream",
     "text": [
      "Failed to detect the name of this notebook, you can set it manually with the WANDB_NOTEBOOK_NAME environment variable to enable code saving.\n",
      "\u001b[34m\u001b[1mwandb\u001b[0m: Currently logged in as: \u001b[33mkhiem2105-1\u001b[0m (\u001b[33mamal-project\u001b[0m). Use \u001b[1m`wandb login --relogin`\u001b[0m to force relogin\n"
     ]
    },
    {
     "data": {
      "text/plain": [
       "True"
      ]
     },
     "execution_count": 6,
     "metadata": {},
     "output_type": "execute_result"
    }
   ],
   "source": [
    "import wandb\n",
    "wandb.login()"
   ]
  },
  {
   "cell_type": "code",
   "execution_count": null,
   "metadata": {},
   "outputs": [
    {
     "data": {
      "text/html": [
       "Tracking run with wandb version 0.13.9"
      ],
      "text/plain": [
       "<IPython.core.display.HTML object>"
      ]
     },
     "metadata": {},
     "output_type": "display_data"
    },
    {
     "data": {
      "text/html": [
       "Run data is saved locally in <code>/tempory/21111637/Neural-Optimal-Transport/wandb/run-20230203_162738-5dr8jxau</code>"
      ],
      "text/plain": [
       "<IPython.core.display.HTML object>"
      ]
     },
     "metadata": {},
     "output_type": "display_data"
    },
    {
     "data": {
      "text/html": [
       "Syncing run <strong><a href=\"https://wandb.ai/amal-project/Neural_Optimal_Transport/runs/5dr8jxau\" target=\"_blank\">MNIST_KMNIST_weak_gamma=1.0_T_iters=2_z_size=4</a></strong> to <a href=\"https://wandb.ai/amal-project/Neural_Optimal_Transport\" target=\"_blank\">Weights & Biases</a> (<a href=\"https://wandb.me/run\" target=\"_blank\">docs</a>)<br/>"
      ],
      "text/plain": [
       "<IPython.core.display.HTML object>"
      ]
     },
     "metadata": {},
     "output_type": "display_data"
    },
    {
     "data": {
      "text/html": [
       " View project at <a href=\"https://wandb.ai/amal-project/Neural_Optimal_Transport\" target=\"_blank\">https://wandb.ai/amal-project/Neural_Optimal_Transport</a>"
      ],
      "text/plain": [
       "<IPython.core.display.HTML object>"
      ]
     },
     "metadata": {},
     "output_type": "display_data"
    },
    {
     "data": {
      "text/html": [
       " View run at <a href=\"https://wandb.ai/amal-project/Neural_Optimal_Transport/runs/5dr8jxau\" target=\"_blank\">https://wandb.ai/amal-project/Neural_Optimal_Transport/runs/5dr8jxau</a>"
      ],
      "text/plain": [
       "<IPython.core.display.HTML object>"
      ]
     },
     "metadata": {},
     "output_type": "display_data"
    }
   ],
   "source": [
    "dataset_1 = \"MNIST\"\n",
    "dataset_2 = \"KMNIST\"\n",
    "run_name = f\"{dataset_1}_{dataset_2}_{config.cost}_gamma={config.gamma_1}_T_iters={config.T_iters}_z_size={config.z_size}\"\n",
    "\n",
    "run = wandb.init(\n",
    "    project=\"Neural_Optimal_Transport\",\n",
    "    name=run_name,\n",
    "    config=config.__dict__\n",
    ")"
   ]
  },
  {
   "cell_type": "code",
   "execution_count": null,
   "metadata": {},
   "outputs": [],
   "source": [
    "save_path = f\"checkpoints/{dataset_1}_{dataset_2}/{config.cost}_gamma={config.gamma_1}_T_iter={config.T_iters}_z_size={config.z_size}\""
   ]
  },
  {
   "cell_type": "code",
   "execution_count": null,
   "metadata": {},
   "outputs": [],
   "source": [
    "trainer = Trainer(\n",
    "    img_size=config.img_size,\n",
    "    batch_size=config.batch_size,\n",
    "    zc=config.zc,\n",
    "    z_std=config.z_std,\n",
    "    z_size=config.z_size,\n",
    "    T_iters=config.T_iters,\n",
    "    D_lr=config.D_lr,\n",
    "    T_lr=config.T_lr,\n",
    "    gamma_0=config.gamma_0,\n",
    "    gamma_1=config.gamma_1,\n",
    "    gamma_iters=config.gamma_iters,\n",
    "    save_path=save_path,\n",
    "    img_c_in=config.img_c_in,\n",
    "    img_c_out=config.img_c_out,\n",
    "    base_factor=config.base_factor,\n",
    "    plot_interval=config.plot_interval,\n",
    "    ckpt_interval=config.ckpt_interval,\n",
    "    cost=config.cost,\n",
    "    max_steps=config.max_steps\n",
    ")"
   ]
  },
  {
   "cell_type": "code",
   "execution_count": null,
   "metadata": {},
   "outputs": [],
   "source": [
    "trainer.train(\n",
    "    X_train_sampler,\n",
    "    X_test_sampler,\n",
    "    Y_train_sampler,\n",
    "    Y_test_sampler,\n",
    "    XZ_fixed,\n",
    "    XZ_test_fixed,\n",
    "    Y_fixed,\n",
    "    Y_test_fixed,\n",
    "    run\n",
    ")"
   ]
  },
  {
   "cell_type": "code",
   "execution_count": null,
   "metadata": {},
   "outputs": [
    {
     "data": {
      "text/html": [
       "Waiting for W&B process to finish... <strong style=\"color:green\">(success).</strong>"
      ],
      "text/plain": [
       "<IPython.core.display.HTML object>"
      ]
     },
     "metadata": {},
     "output_type": "display_data"
    },
    {
     "data": {
      "text/html": [
       "<style>\n",
       "    table.wandb td:nth-child(1) { padding: 0 10px; text-align: left ; width: auto;} td:nth-child(2) {text-align: left ; width: 100%}\n",
       "    .wandb-row { display: flex; flex-direction: row; flex-wrap: wrap; justify-content: flex-start; width: 100% }\n",
       "    .wandb-col { display: flex; flex-direction: column; flex-basis: 100%; flex: 1; padding: 10px; }\n",
       "    </style>\n",
       "<div class=\"wandb-row\"><div class=\"wandb-col\"><h3>Run history:</h3><br/><table class=\"wandb\"><tr><td>D_loss</td><td>▁█▂▃▂▂▂▃▂▂▄▂▂▂▁▂▂▃▂▂▂▂▁▂▁▂▃▂▃▂▄▃▂▁▃▂▃▂▂▃</td></tr><tr><td>T_loss</td><td>▆▄▆▆▆▆▆▆▅▆▆▆▇▅▅▆▆▆▆▆▆▆▆▅▆█▄▆▆█▁▄▆▆▅▃▄▅▅▅</td></tr></table><br/></div><div class=\"wandb-col\"><h3>Run summary:</h3><br/><table class=\"wandb\"><tr><td>D_loss</td><td>-0.12117</td></tr><tr><td>T_loss</td><td>-0.59148</td></tr></table><br/></div></div>"
      ],
      "text/plain": [
       "<IPython.core.display.HTML object>"
      ]
     },
     "metadata": {},
     "output_type": "display_data"
    },
    {
     "data": {
      "text/html": [
       " View run <strong style=\"color:#cdcd00\">MNIST_KMNIST_weak_gamma=1.0_T_iters=2_z_size=4</strong> at: <a href=\"https://wandb.ai/amal-project/Neural_Optimal_Transport/runs/5dr8jxau\" target=\"_blank\">https://wandb.ai/amal-project/Neural_Optimal_Transport/runs/5dr8jxau</a><br/>Synced 5 W&B file(s), 56 media file(s), 0 artifact file(s) and 0 other file(s)"
      ],
      "text/plain": [
       "<IPython.core.display.HTML object>"
      ]
     },
     "metadata": {},
     "output_type": "display_data"
    },
    {
     "data": {
      "text/html": [
       "Find logs at: <code>./wandb/run-20230203_162738-5dr8jxau/logs</code>"
      ],
      "text/plain": [
       "<IPython.core.display.HTML object>"
      ]
     },
     "metadata": {},
     "output_type": "display_data"
    }
   ],
   "source": [
    "run.finish()"
   ]
  }
 ],
 "metadata": {
  "kernelspec": {
   "display_name": "deepdac",
   "language": "python",
   "name": "python3"
  },
  "language_info": {
   "codemirror_mode": {
    "name": "ipython",
    "version": 3
   },
   "file_extension": ".py",
   "mimetype": "text/x-python",
   "name": "python",
   "nbconvert_exporter": "python",
   "pygments_lexer": "ipython3",
   "version": "3.9.6 (default, Sep 19 2022, 09:19:34) \n[GCC 10.2.1 20210110]"
  },
  "orig_nbformat": 4,
  "vscode": {
   "interpreter": {
    "hash": "85741c00b0bf80dca72fd5156804e2f0eda22b0681c71878e038a614b4ba1c43"
   }
  }
 },
 "nbformat": 4,
 "nbformat_minor": 2
}
