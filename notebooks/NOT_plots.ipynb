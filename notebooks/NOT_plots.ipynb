{
 "cells": [
  {
   "cell_type": "code",
   "execution_count": null,
   "metadata": {},
   "outputs": [],
   "source": [
    "import os, sys\n",
    "sys.path.append(\"..\")\n",
    "\n",
    "import matplotlib\n",
    "import numpy as np\n",
    "import matplotlib.pyplot as plt\n",
    "%matplotlib inline \n",
    "\n",
    "import numpy as np\n",
    "import torch\n",
    "import torch.nn as nn\n",
    "import torchvision\n",
    "import gc\n",
    "\n",
    "from src.tools import freeze\n",
    "from src.tools import load_dataset\n",
    "from src.unet import UNet\n",
    "\n",
    "import json\n",
    "\n",
    "from tqdm import tqdm_notebook as tqdm\n",
    "from IPython.display import clear_output\n",
    "from collections import OrderedDict\n",
    "\n",
    "# This needed to use dataloaders for some datasets\n",
    "from PIL import PngImagePlugin\n",
    "LARGE_ENOUGH_NUMBER = 100\n",
    "PngImagePlugin.MAX_TEXT_CHUNK = LARGE_ENOUGH_NUMBER * (1024**2)"
   ]
  },
  {
   "cell_type": "markdown",
   "metadata": {},
   "source": [
    "## Main Config"
   ]
  },
  {
   "cell_type": "code",
   "execution_count": null,
   "metadata": {
    "tags": [
     "parameters"
    ]
   },
   "outputs": [],
   "source": [
    "DEVICE_ID = 0\n",
    "\n",
    "# DATASET2, DATASET2_PATH = 'handbag', '../../data/handbag_128.hdf5'\n",
    "# DATASET2, DATASET2_PATH = 'shoes', '../../data/shoes_128.hdf5'\n",
    "# DATASET1, DATASET1_PATH = 'celeba_male', '../../data/img_align_celeba'\n",
    "DATASET1, DATASET1_PATH = 'celeba_female', '../../data/img_align_celeba'\n",
    "DATASET2, DATASET2_PATH = 'aligned_anime_faces', '../../data/aligned_anime_faces'\n",
    "# DATASET1, DATASET1_PATH = 'outdoor', '../../data/outdoor_128.hdf5'\n",
    "# DATASET2, DATASET2_PATH = 'church', '../../data/church_128.hdf5'\n",
    "\n",
    "IMG_SIZE = 128\n",
    "COST = 'weak_mse'\n",
    "\n",
    "if COST == 'weak_mse':\n",
    "    ZC, Z_STD = 1, 0.1\n",
    "else:\n",
    "    ZC, Z_STD = 0, 0.\n",
    "    \n",
    "assert torch.cuda.is_available()\n",
    "torch.cuda.set_device(f'cuda:{DEVICE_ID}')"
   ]
  },
  {
   "cell_type": "code",
   "execution_count": null,
   "metadata": {},
   "outputs": [],
   "source": [
    "_, X_test_sampler = load_dataset(DATASET1, DATASET1_PATH, img_size=IMG_SIZE)\n",
    "# _, Y_test_sampler = load_dataset(DATASET2, DATASET2_PATH, img_size=IMG_SIZE)\n",
    "    \n",
    "T = UNet(3+ZC, 3, base_factor=48)\n",
    "pass"
   ]
  },
  {
   "cell_type": "code",
   "execution_count": null,
   "metadata": {},
   "outputs": [],
   "source": [
    "folder = os.path.join('../checkpoints', COST, '{}_{}_{}'.format(DATASET1, DATASET2, IMG_SIZE))\n",
    "model = 'T.pt'\n",
    "path = os.path.join(folder, model)"
   ]
  },
  {
   "cell_type": "code",
   "execution_count": null,
   "metadata": {},
   "outputs": [],
   "source": [
    "# Load NN parallel model and save to cpu\n",
    "\n",
    "# T.load_state_dict(\n",
    "#     OrderedDict(\n",
    "#         [(k.split('module.')[-1], v) for k,v in torch.load(path).items()]\n",
    "#     )\n",
    "# )\n",
    "\n",
    "# T.cpu()\n",
    "# torch.save(T.state_dict(), path)"
   ]
  },
  {
   "cell_type": "code",
   "execution_count": null,
   "metadata": {},
   "outputs": [],
   "source": [
    "T.load_state_dict(torch.load(path))\n",
    "T.cuda(); freeze(T)"
   ]
  },
  {
   "cell_type": "markdown",
   "metadata": {},
   "source": [
    "## Plotting checkpoints"
   ]
  },
  {
   "cell_type": "code",
   "execution_count": null,
   "metadata": {
    "scrolled": false
   },
   "outputs": [],
   "source": [
    "if COST == 'mse':\n",
    "    fig, axes = plt.subplots(2, 64, figsize=(64*2-1,4), dpi=200)\n",
    "\n",
    "    X = X_test_sampler.sample(64)\n",
    "    with torch.no_grad():\n",
    "        T_X = T(X)\n",
    "\n",
    "    with torch.no_grad():\n",
    "        for i in range(64):\n",
    "            axes[0,i].imshow(X[i].permute(1, 2, 0).add(1).mul(0.5).cpu().numpy().clip(0,1))\n",
    "            axes[1,i].imshow(T_X[i].permute(1, 2, 0).add(1).mul(0.5).cpu().numpy().clip(0,1))\n",
    "\n",
    "    axes[0,0].set_ylabel(r'$x\\sim\\mathbb{P}$', fontsize=25 if IMG_SIZE==128 else 37)\n",
    "    axes[1,0].set_ylabel(r'$\\widehat{T}(x)$', fontsize=25 if IMG_SIZE==128 else 37)\n",
    "\n",
    "    for i, ax in enumerate(axes.flatten()):\n",
    "        ax.get_xaxis().set_visible(False)\n",
    "        ax.set_yticks([])\n",
    "\n",
    "    fig.tight_layout(pad=0.001)\n",
    "    fig.show()\n",
    "    \n",
    "elif COST == 'weak_mse':\n",
    "    fig, axes = plt.subplots(5, 16, figsize=(16*2+1,10), dpi=100)   \n",
    "    \n",
    "    X = X_test_sampler.sample(16)[:,None].repeat(1,4,1,1,1)\n",
    "    with torch.no_grad():\n",
    "        Z = torch.randn(X.size(0), 4, ZC, IMG_SIZE, IMG_SIZE, device='cuda') * Z_STD\n",
    "        XZ = torch.cat([X, Z], dim=2)\n",
    "        T_XZ = T(\n",
    "            XZ.flatten(start_dim=0, end_dim=1)\n",
    "        ).permute(1,2,3,0).reshape(3, IMG_SIZE, IMG_SIZE, -1, 4).permute(3,4,0,1,2)\n",
    "\n",
    "    with torch.no_grad():\n",
    "        for i in range(16):\n",
    "            axes[0,i].imshow(X[i, 0].permute(1, 2, 0).add(1).mul(0.5).cpu().numpy().clip(0,1))\n",
    "            for j in range(4):\n",
    "                axes[j+1,i].imshow(T_XZ[i,j].permute(1, 2, 0).add(1).mul(0.5).cpu().numpy().clip(0,1))\n",
    "\n",
    "    axes[0,0].set_ylabel(r'$x\\sim\\mathbb{P}$', fontsize=25 if IMG_SIZE==128 else 30)\n",
    "    for j in range(4):\n",
    "        title = '\\widehat{T}(x,z_' + str(j+1) + ')'\n",
    "        axes[j+1,0].set_ylabel(r'${}$'.format(title), fontsize=25 if IMG_SIZE==128 else 30)\n",
    "\n",
    "    for i, ax in enumerate(axes.flatten()):\n",
    "        ax.get_xaxis().set_visible(False)\n",
    "        ax.set_yticks([])\n",
    "\n",
    "    fig.tight_layout(pad=0.001)\n",
    "    fig.show()"
   ]
  },
  {
   "cell_type": "code",
   "execution_count": null,
   "metadata": {
    "scrolled": false
   },
   "outputs": [],
   "source": [
    "if COST == 'weak_mse': \n",
    "    Z_SIZE = 8 if IMG_SIZE == 128 else 11\n",
    "    fig, axes = plt.subplots(4, Z_SIZE+1, figsize=((Z_SIZE+1)*2,8+0.4), dpi=100)  \n",
    "    \n",
    "    X = X_test_sampler.sample(4)[:,None].repeat(1,Z_SIZE,1,1,1)\n",
    "    with torch.no_grad():\n",
    "        Z = torch.randn(X.size(0), Z_SIZE, ZC, IMG_SIZE, IMG_SIZE, device='cuda') * Z_STD\n",
    "        for i in range(Z_SIZE):\n",
    "            Z[:, i] = Z[:, 0]*(1.-i/(Z_SIZE-1)) + Z[:,-1]*(i/(Z_SIZE-1))\n",
    "        XZ = torch.cat([X, Z], dim=2)\n",
    "        T_XZ = T(\n",
    "            XZ.flatten(start_dim=0, end_dim=1)\n",
    "        ).permute(1,2,3,0).reshape(3, IMG_SIZE, IMG_SIZE, -1, Z_SIZE).permute(3,4,0,1,2)\n",
    "\n",
    "    with torch.no_grad():\n",
    "        for j in range(4):\n",
    "            axes[j,0].imshow(X[j, 0].permute(1, 2, 0).add(1).mul(0.5).cpu().numpy().clip(0,1))\n",
    "#             axes[0,0].set_ylabel(r'$x\\sim\\mathbb{P}$', fontsize=25 if IMG_SIZE==128 else 30)\n",
    "            for i in range(Z_SIZE):\n",
    "                axes[j,i+1].imshow(T_XZ[j,i].permute(1, 2, 0).add(1).mul(0.5).cpu().numpy().clip(0,1))\n",
    "                \n",
    "    for i in range(1,Z_SIZE-1):\n",
    "        title = '\\\\alpha={}/{}'.format(i,Z_SIZE-1)\n",
    "        axes[0,i+1].set_title(r'${}$'.format(title), fontsize=20 if IMG_SIZE==128 else 25)\n",
    "    axes[0,0].set_title(r'$x\\sim\\mathbb{P}$', fontsize=20 if IMG_SIZE==128 else 25)\n",
    "    axes[0,1].set_title(r'$T(x,z_1)$', fontsize=20 if IMG_SIZE==128 else 25)\n",
    "    axes[0,-1].set_title(r'$T(x,z_2)$', fontsize=20 if IMG_SIZE==128 else 25)\n",
    "\n",
    "    for i, ax in enumerate(axes.flatten()):\n",
    "        ax.get_xaxis().set_visible(False)\n",
    "        ax.set_yticks([])\n",
    "\n",
    "    fig.tight_layout(pad=0.001)\n",
    "    fig.show()"
   ]
  },
  {
   "cell_type": "code",
   "execution_count": null,
   "metadata": {},
   "outputs": [],
   "source": []
  }
 ],
 "metadata": {
  "celltoolbar": "Tags",
  "kernelspec": {
   "display_name": "Python 3",
   "language": "python",
   "name": "python3"
  },
  "language_info": {
   "codemirror_mode": {
    "name": "ipython",
    "version": 3
   },
   "file_extension": ".py",
   "mimetype": "text/x-python",
   "name": "python",
   "nbconvert_exporter": "python",
   "pygments_lexer": "ipython3",
   "version": "3.8.5"
  }
 },
 "nbformat": 4,
 "nbformat_minor": 4
}
